{
  "nbformat": 4,
  "nbformat_minor": 0,
  "metadata": {
    "colab": {
      "name": "Bitcoin_Price-Prediction_using_RNN_LSTM.ipynb",
      "provenance": [],
      "collapsed_sections": []
    },
    "kernelspec": {
      "name": "python3",
      "display_name": "Python 3"
    },
    "language_info": {
      "name": "python"
    }
  },
  "cells": [
    {
      "cell_type": "markdown",
      "metadata": {
        "id": "aSZC8g5bJDDq"
      },
      "source": [
        "*Project for Internship*\n",
        "\n",
        "## Title- Bitcoin Price Prediction (using RNN, LSTM)\n",
        "\n",
        "```\n",
        "Done by- Pratik Lagaskar\n",
        "Branch- Electronics and Telecommunication\n",
        "College- MIT Academy of Engineering,Pune,Maharashtra\n",
        "Semester - 3(2nd year)\n",
        "```"
      ]
    },
    {
      "cell_type": "markdown",
      "metadata": {
        "id": "Smzwd-AlMCHa"
      },
      "source": [
        "\n",
        "Importing required Libraries\n"
      ]
    },
    {
      "cell_type": "code",
      "metadata": {
        "id": "bn30KzoqIzoh"
      },
      "source": [
        "import datetime\n",
        "#Libraries to manipulate data\n",
        "import numpy as np \n",
        "import math\n",
        "import pandas as pd\n",
        "#Libraries to visualize data\n",
        "from matplotlib import pyplot as plt\n",
        "import seaborn as sns\n",
        "\n",
        "from sklearn.model_selection import train_test_split\n",
        "from sklearn.preprocessing import MinMaxScaler\n",
        "from sklearn.metrics import mean_squared_error, mean_absolute_error\n",
        "\n",
        "from keras.models import Sequential\n",
        "from keras.layers import Dense\n",
        "from keras.layers import Dense, LSTM, Dropout, GRU, Bidirectional\n",
        "from tensorflow.keras.optimizers import SGD\n",
        "from keras.layers import LSTM\n",
        "\n",
        "import os\n",
        "import warnings\n",
        "warnings.filterwarnings(action='ignore')\n",
        "warnings.filterwarnings(action='ignore', category=DeprecationWarning)\n",
        "warnings.filterwarnings(action='ignore', category=FutureWarning)"
      ],
      "execution_count": null,
      "outputs": []
    },
    {
      "cell_type": "markdown",
      "metadata": {
        "id": "TeAC3m39NOlp"
      },
      "source": [
        "Lodaing dataset"
      ]
    },
    {
      "cell_type": "code",
      "metadata": {
        "colab": {
          "base_uri": "https://localhost:8080/",
          "height": 487
        },
        "id": "QJuQx3h6NXfP",
        "outputId": "caf0fa20-2938-4973-cda4-f461abfb924c"
      },
      "source": [
        "path = \"/content/bitstampUSD_1-min_data_2012-01-01_to_2021-03-31.csv\"\n",
        "#while executing at your side, please add path to the same dataset on your machine.\n",
        "df = pd.read_csv(path)\n",
        "btc_index = data.index.ravel()\n",
        "print(list(data.columns), \"\\nSHAPE ::\", data.shape)\n",
        "for i in data.columns:\n",
        "    print(i, \"::\", data[i].dtype)\n",
        "\n",
        "random = 123\n",
        "\n",
        "data.describe()"
      ],
      "execution_count": null,
      "outputs": [
        {
          "output_type": "stream",
          "name": "stdout",
          "text": [
            "['Timestamp', 'Open', 'High', 'Low', 'Close', 'Volume_(BTC)', 'Volume_(Currency)', 'Weighted_Price'] \n",
            "SHAPE :: (258769, 8)\n",
            "Timestamp :: int64\n",
            "Open :: float64\n",
            "High :: float64\n",
            "Low :: float64\n",
            "Close :: float64\n",
            "Volume_(BTC) :: float64\n",
            "Volume_(Currency) :: float64\n",
            "Weighted_Price :: float64\n"
          ]
        },
        {
          "output_type": "execute_result",
          "data": {
            "text/html": [
              "<div>\n",
              "<style scoped>\n",
              "    .dataframe tbody tr th:only-of-type {\n",
              "        vertical-align: middle;\n",
              "    }\n",
              "\n",
              "    .dataframe tbody tr th {\n",
              "        vertical-align: top;\n",
              "    }\n",
              "\n",
              "    .dataframe thead th {\n",
              "        text-align: right;\n",
              "    }\n",
              "</style>\n",
              "<table border=\"1\" class=\"dataframe\">\n",
              "  <thead>\n",
              "    <tr style=\"text-align: right;\">\n",
              "      <th></th>\n",
              "      <th>Timestamp</th>\n",
              "      <th>Open</th>\n",
              "      <th>High</th>\n",
              "      <th>Low</th>\n",
              "      <th>Close</th>\n",
              "      <th>Volume_(BTC)</th>\n",
              "      <th>Volume_(Currency)</th>\n",
              "      <th>Weighted_Price</th>\n",
              "    </tr>\n",
              "  </thead>\n",
              "  <tbody>\n",
              "    <tr>\n",
              "      <th>count</th>\n",
              "      <td>2.587690e+05</td>\n",
              "      <td>258769.000000</td>\n",
              "      <td>258769.000000</td>\n",
              "      <td>258769.000000</td>\n",
              "      <td>258769.000000</td>\n",
              "      <td>258769.000000</td>\n",
              "      <td>258769.000000</td>\n",
              "      <td>258769.000000</td>\n",
              "    </tr>\n",
              "    <tr>\n",
              "      <th>mean</th>\n",
              "      <td>1.369669e+09</td>\n",
              "      <td>98.718789</td>\n",
              "      <td>98.801246</td>\n",
              "      <td>98.619939</td>\n",
              "      <td>98.711230</td>\n",
              "      <td>13.924749</td>\n",
              "      <td>1260.096558</td>\n",
              "      <td>98.709798</td>\n",
              "    </tr>\n",
              "    <tr>\n",
              "      <th>std</th>\n",
              "      <td>1.006773e+07</td>\n",
              "      <td>44.274144</td>\n",
              "      <td>44.310963</td>\n",
              "      <td>44.228730</td>\n",
              "      <td>44.269022</td>\n",
              "      <td>44.156227</td>\n",
              "      <td>4548.846143</td>\n",
              "      <td>44.268898</td>\n",
              "    </tr>\n",
              "    <tr>\n",
              "      <th>min</th>\n",
              "      <td>1.325318e+09</td>\n",
              "      <td>3.800000</td>\n",
              "      <td>3.800000</td>\n",
              "      <td>3.800000</td>\n",
              "      <td>3.800000</td>\n",
              "      <td>0.000000</td>\n",
              "      <td>0.000000</td>\n",
              "      <td>3.800000</td>\n",
              "    </tr>\n",
              "    <tr>\n",
              "      <th>25%</th>\n",
              "      <td>1.365972e+09</td>\n",
              "      <td>86.250000</td>\n",
              "      <td>86.320000</td>\n",
              "      <td>86.170000</td>\n",
              "      <td>86.250000</td>\n",
              "      <td>0.962672</td>\n",
              "      <td>69.265760</td>\n",
              "      <td>86.240000</td>\n",
              "    </tr>\n",
              "    <tr>\n",
              "      <th>50%</th>\n",
              "      <td>1.370734e+09</td>\n",
              "      <td>108.640000</td>\n",
              "      <td>108.820000</td>\n",
              "      <td>108.500000</td>\n",
              "      <td>108.650000</td>\n",
              "      <td>2.599271</td>\n",
              "      <td>200.000000</td>\n",
              "      <td>108.630000</td>\n",
              "    </tr>\n",
              "    <tr>\n",
              "      <th>75%</th>\n",
              "      <td>1.377196e+09</td>\n",
              "      <td>125.450000</td>\n",
              "      <td>125.500000</td>\n",
              "      <td>125.370000</td>\n",
              "      <td>125.460000</td>\n",
              "      <td>10.020629</td>\n",
              "      <td>777.680368</td>\n",
              "      <td>125.438149</td>\n",
              "    </tr>\n",
              "    <tr>\n",
              "      <th>max</th>\n",
              "      <td>1.382841e+09</td>\n",
              "      <td>259.340000</td>\n",
              "      <td>259.340000</td>\n",
              "      <td>259.340000</td>\n",
              "      <td>259.340000</td>\n",
              "      <td>2958.477574</td>\n",
              "      <td>258743.003580</td>\n",
              "      <td>259.340000</td>\n",
              "    </tr>\n",
              "  </tbody>\n",
              "</table>\n",
              "</div>"
            ],
            "text/plain": [
              "          Timestamp           Open  ...  Volume_(Currency)  Weighted_Price\n",
              "count  2.587690e+05  258769.000000  ...      258769.000000   258769.000000\n",
              "mean   1.369669e+09      98.718789  ...        1260.096558       98.709798\n",
              "std    1.006773e+07      44.274144  ...        4548.846143       44.268898\n",
              "min    1.325318e+09       3.800000  ...           0.000000        3.800000\n",
              "25%    1.365972e+09      86.250000  ...          69.265760       86.240000\n",
              "50%    1.370734e+09     108.640000  ...         200.000000      108.630000\n",
              "75%    1.377196e+09     125.450000  ...         777.680368      125.438149\n",
              "max    1.382841e+09     259.340000  ...      258743.003580      259.340000\n",
              "\n",
              "[8 rows x 8 columns]"
            ]
          },
          "metadata": {},
          "execution_count": 106
        }
      ]
    },
    {
      "cell_type": "code",
      "metadata": {
        "colab": {
          "base_uri": "https://localhost:8080/"
        },
        "id": "__pHNXkL3nFW",
        "outputId": "bdb23968-2bab-4c18-b4e2-5efc0d57cce1"
      },
      "source": [
        "def dateparse (time_in_secs):    \n",
        "    return pytz.utc.localize(datetime.datetime.fromtimestamp(float(time_in_secs)))\n",
        "\n",
        "df = pd.read_csv('/content/bitstampUSD_1-min_data_2012-01-01_to_2021-03-31.csv', parse_dates=[0], date_parser=dateparse, index_col='Timestamp')\n",
        "df.shape"
      ],
      "execution_count": null,
      "outputs": [
        {
          "output_type": "execute_result",
          "data": {
            "text/plain": [
              "(4857377, 7)"
            ]
          },
          "metadata": {},
          "execution_count": 107
        }
      ]
    },
    {
      "cell_type": "code",
      "metadata": {
        "colab": {
          "base_uri": "https://localhost:8080/",
          "height": 204
        },
        "id": "-hGaGfVv0UoN",
        "outputId": "615e64aa-76a1-4b91-9a08-f9d98985c6b7"
      },
      "source": [
        "data.head()"
      ],
      "execution_count": null,
      "outputs": [
        {
          "output_type": "execute_result",
          "data": {
            "text/html": [
              "<div>\n",
              "<style scoped>\n",
              "    .dataframe tbody tr th:only-of-type {\n",
              "        vertical-align: middle;\n",
              "    }\n",
              "\n",
              "    .dataframe tbody tr th {\n",
              "        vertical-align: top;\n",
              "    }\n",
              "\n",
              "    .dataframe thead th {\n",
              "        text-align: right;\n",
              "    }\n",
              "</style>\n",
              "<table border=\"1\" class=\"dataframe\">\n",
              "  <thead>\n",
              "    <tr style=\"text-align: right;\">\n",
              "      <th></th>\n",
              "      <th>Timestamp</th>\n",
              "      <th>Open</th>\n",
              "      <th>High</th>\n",
              "      <th>Low</th>\n",
              "      <th>Close</th>\n",
              "      <th>Volume_(BTC)</th>\n",
              "      <th>Volume_(Currency)</th>\n",
              "      <th>Weighted_Price</th>\n",
              "    </tr>\n",
              "  </thead>\n",
              "  <tbody>\n",
              "    <tr>\n",
              "      <th>0</th>\n",
              "      <td>1325317920</td>\n",
              "      <td>4.39</td>\n",
              "      <td>4.39</td>\n",
              "      <td>4.39</td>\n",
              "      <td>4.39</td>\n",
              "      <td>0.455581</td>\n",
              "      <td>2.000000</td>\n",
              "      <td>4.390000</td>\n",
              "    </tr>\n",
              "    <tr>\n",
              "      <th>478</th>\n",
              "      <td>1325346600</td>\n",
              "      <td>4.39</td>\n",
              "      <td>4.39</td>\n",
              "      <td>4.39</td>\n",
              "      <td>4.39</td>\n",
              "      <td>48.000000</td>\n",
              "      <td>210.720000</td>\n",
              "      <td>4.390000</td>\n",
              "    </tr>\n",
              "    <tr>\n",
              "      <th>547</th>\n",
              "      <td>1325350740</td>\n",
              "      <td>4.50</td>\n",
              "      <td>4.57</td>\n",
              "      <td>4.50</td>\n",
              "      <td>4.57</td>\n",
              "      <td>37.862297</td>\n",
              "      <td>171.380338</td>\n",
              "      <td>4.526411</td>\n",
              "    </tr>\n",
              "    <tr>\n",
              "      <th>548</th>\n",
              "      <td>1325350800</td>\n",
              "      <td>4.58</td>\n",
              "      <td>4.58</td>\n",
              "      <td>4.58</td>\n",
              "      <td>4.58</td>\n",
              "      <td>9.000000</td>\n",
              "      <td>41.220000</td>\n",
              "      <td>4.580000</td>\n",
              "    </tr>\n",
              "    <tr>\n",
              "      <th>1224</th>\n",
              "      <td>1325391360</td>\n",
              "      <td>4.58</td>\n",
              "      <td>4.58</td>\n",
              "      <td>4.58</td>\n",
              "      <td>4.58</td>\n",
              "      <td>1.502000</td>\n",
              "      <td>6.879160</td>\n",
              "      <td>4.580000</td>\n",
              "    </tr>\n",
              "  </tbody>\n",
              "</table>\n",
              "</div>"
            ],
            "text/plain": [
              "       Timestamp  Open  High  ...  Volume_(BTC)  Volume_(Currency)  Weighted_Price\n",
              "0     1325317920  4.39  4.39  ...      0.455581           2.000000        4.390000\n",
              "478   1325346600  4.39  4.39  ...     48.000000         210.720000        4.390000\n",
              "547   1325350740  4.50  4.57  ...     37.862297         171.380338        4.526411\n",
              "548   1325350800  4.58  4.58  ...      9.000000          41.220000        4.580000\n",
              "1224  1325391360  4.58  4.58  ...      1.502000           6.879160        4.580000\n",
              "\n",
              "[5 rows x 8 columns]"
            ]
          },
          "metadata": {},
          "execution_count": 108
        }
      ]
    },
    {
      "cell_type": "code",
      "metadata": {
        "colab": {
          "base_uri": "https://localhost:8080/",
          "height": 330
        },
        "id": "rivfLEZt-32a",
        "outputId": "ed2d1435-9fff-4664-d900-f95e1474fc0f"
      },
      "source": [
        "df['Close']['2021':].plot(figsize=(16,4))"
      ],
      "execution_count": null,
      "outputs": [
        {
          "output_type": "execute_result",
          "data": {
            "text/plain": [
              "<matplotlib.axes._subplots.AxesSubplot at 0x7f27f59d95d0>"
            ]
          },
          "metadata": {},
          "execution_count": 109
        },
        {
          "output_type": "display_data",
          "data": {
            "image/png": "[encoded data removed]",
            "text/plain": [
              "<Figure size 1152x288 with 1 Axes>"
            ]
          },
          "metadata": {
            "needs_background": "light"
          }
        }
      ]
    },
    {
      "cell_type": "code",
      "metadata": {
        "id": "qEGcwyV_VN3c"
      },
      "source": [
        "df['Volume_(BTC)'].fillna(value=0, inplace=True)\n",
        "df['Volume_(Currency)'].fillna(value=0, inplace=True)\n",
        "df['Weighted_Price'].fillna(value=0, inplace=True)\n",
        "\n",
        "# Forward fill those price values\n",
        "df['Open'].fillna(method='ffill', inplace=True)\n",
        "df['High'].fillna(method='ffill', inplace=True)\n",
        "df['Low'].fillna(method='ffill', inplace=True)\n",
        "df['Close'].fillna(method='ffill', inplace=True)"
      ],
      "execution_count": null,
      "outputs": []
    },
    {
      "cell_type": "code",
      "metadata": {
        "colab": {
          "base_uri": "https://localhost:8080/"
        },
        "id": "51xhEID5_J2z",
        "outputId": "e933e75d-dd88-4515-b8b3-e29593e53238"
      },
      "source": [
        "df.isnull().sum().sum()"
      ],
      "execution_count": null,
      "outputs": [
        {
          "output_type": "execute_result",
          "data": {
            "text/plain": [
              "0"
            ]
          },
          "metadata": {},
          "execution_count": 111
        }
      ]
    },
    {
      "cell_type": "code",
      "metadata": {
        "colab": {
          "base_uri": "https://localhost:8080/"
        },
        "id": "-CAh7bLpyYZJ",
        "outputId": "585ede3d-9d23-4000-a707-9fc9d19f7e33"
      },
      "source": [
        "df['Date'] = df.index.date\n",
        "df_d = df.groupby('Date')['Close'].mean()\n",
        "df_d = pd.DataFrame(df_d)\n",
        "df_d.shape"
      ],
      "execution_count": null,
      "outputs": [
        {
          "output_type": "execute_result",
          "data": {
            "text/plain": [
              "(3376, 1)"
            ]
          },
          "metadata": {},
          "execution_count": 112
        }
      ]
    },
    {
      "cell_type": "code",
      "metadata": {
        "id": "Pq12Q-cn_IrL"
      },
      "source": [
        "split = len(df_d) - int(len(df_d) * 0.8)\n",
        "df_train = df_d.iloc[split:]\n",
        "df_test = df_d.iloc[:split]"
      ],
      "execution_count": null,
      "outputs": []
    },
    {
      "cell_type": "code",
      "metadata": {
        "id": "SxvTcodh_UrZ"
      },
      "source": [
        "step = 21"
      ],
      "execution_count": null,
      "outputs": []
    },
    {
      "cell_type": "code",
      "metadata": {
        "id": "KrWm29d7_Zah"
      },
      "source": [
        "def prepeare_data(df, step):\n",
        "    data = []\n",
        "    \n",
        "    for i in range(len(df) - step):\n",
        "        data.append((df[i: (i + step)]).values)\n",
        "        \n",
        "    return np.array(data)"
      ],
      "execution_count": null,
      "outputs": []
    },
    {
      "cell_type": "code",
      "metadata": {
        "colab": {
          "base_uri": "https://localhost:8080/"
        },
        "id": "U2im3qLf_ctL",
        "outputId": "5e575d03-fd57-4529-a38e-afe1b1d2c792"
      },
      "source": [
        "X_train = prepeare_data(df_train, step)\n",
        "X_test = prepeare_data(df_test, step)\n",
        "\n",
        "print(\"X_train shape= \", X_train.shape)\n",
        "print(\"X_test shape= \", X_test.shape)"
      ],
      "execution_count": null,
      "outputs": [
        {
          "output_type": "stream",
          "name": "stdout",
          "text": [
            "X_train shape=  (2679, 21, 1)\n",
            "X_test shape=  (655, 21, 1)\n"
          ]
        }
      ]
    },
    {
      "cell_type": "code",
      "metadata": {
        "colab": {
          "base_uri": "https://localhost:8080/"
        },
        "id": "TRaBRfMj_gMI",
        "outputId": "e4ed7e89-7a3d-41fc-8f21-341bb0faec93"
      },
      "source": [
        "y_train = df_train.Close[step:].values\n",
        "y_test = df_test.Close[step:].values\n",
        "\n",
        "print(\"y_train shape= \", y_train.shape)\n",
        "print(\"y_test shape= \", y_test.shape)"
      ],
      "execution_count": null,
      "outputs": [
        {
          "output_type": "stream",
          "name": "stdout",
          "text": [
            "y_train shape=  (2679,)\n",
            "y_test shape=  (655,)\n"
          ]
        }
      ]
    },
    {
      "cell_type": "code",
      "metadata": {
        "colab": {
          "base_uri": "https://localhost:8080/"
        },
        "id": "N9aZw1Rv_lby",
        "outputId": "7c22f2ad-4cfd-4125-b016-1ff69cff507e"
      },
      "source": [
        "model = Sequential()\n",
        "model.add(LSTM(units=128, activation='relu', dropout=0.2, input_shape=(21,1))) # Input layer\n",
        "model.add(Dense(units=1)) # Output layer\n",
        "model.compile(optimizer='adam', loss='mae') #rmse?\n",
        "model.fit(X_train, y_train, epochs=30, batch_size=7)"
      ],
      "execution_count": null,
      "outputs": [
        {
          "output_type": "stream",
          "name": "stdout",
          "text": [
            "Epoch 1/30\n",
            "383/383 [==============================] - 6s 13ms/step - loss: 1387.0419\n",
            "Epoch 2/30\n",
            "383/383 [==============================] - 5s 12ms/step - loss: 755.0964\n",
            "Epoch 3/30\n",
            "383/383 [==============================] - 5s 13ms/step - loss: 655.9730\n",
            "Epoch 4/30\n",
            "383/383 [==============================] - 5s 13ms/step - loss: 1154.6938\n",
            "Epoch 5/30\n",
            "383/383 [==============================] - 5s 12ms/step - loss: 739.0359\n",
            "Epoch 6/30\n",
            "383/383 [==============================] - 5s 13ms/step - loss: 707.5724\n",
            "Epoch 7/30\n",
            "383/383 [==============================] - 5s 12ms/step - loss: 660.1955\n",
            "Epoch 8/30\n",
            "383/383 [==============================] - 5s 13ms/step - loss: 668.3041\n",
            "Epoch 9/30\n",
            "383/383 [==============================] - 5s 13ms/step - loss: 674.3217\n",
            "Epoch 10/30\n",
            "383/383 [==============================] - 5s 13ms/step - loss: 6478037.5000\n",
            "Epoch 11/30\n",
            "383/383 [==============================] - 5s 13ms/step - loss: 1409.0381\n",
            "Epoch 12/30\n",
            "383/383 [==============================] - 5s 13ms/step - loss: 963.3995\n",
            "Epoch 13/30\n",
            "383/383 [==============================] - 5s 13ms/step - loss: 944.5562\n",
            "Epoch 14/30\n",
            "383/383 [==============================] - 5s 13ms/step - loss: 890.5304\n",
            "Epoch 15/30\n",
            "383/383 [==============================] - 5s 13ms/step - loss: 769.5043\n",
            "Epoch 16/30\n",
            "383/383 [==============================] - 5s 13ms/step - loss: 461768.4688\n",
            "Epoch 17/30\n",
            "383/383 [==============================] - 5s 13ms/step - loss: 772.5007\n",
            "Epoch 18/30\n",
            "383/383 [==============================] - 5s 13ms/step - loss: 663.6007\n",
            "Epoch 19/30\n",
            "383/383 [==============================] - 5s 12ms/step - loss: 588.7385\n",
            "Epoch 20/30\n",
            "383/383 [==============================] - 5s 12ms/step - loss: 554.3847\n",
            "Epoch 21/30\n",
            "383/383 [==============================] - 5s 13ms/step - loss: 539.6787\n",
            "Epoch 22/30\n",
            "383/383 [==============================] - 5s 13ms/step - loss: 474.7992\n",
            "Epoch 23/30\n",
            "383/383 [==============================] - 5s 13ms/step - loss: 469.1089\n",
            "Epoch 24/30\n",
            "383/383 [==============================] - 5s 13ms/step - loss: 474.2689\n",
            "Epoch 25/30\n",
            "383/383 [==============================] - 5s 13ms/step - loss: 453.3286\n",
            "Epoch 26/30\n",
            "383/383 [==============================] - 5s 13ms/step - loss: 440.5497\n",
            "Epoch 27/30\n",
            "383/383 [==============================] - 5s 13ms/step - loss: 438.8289\n",
            "Epoch 28/30\n",
            "383/383 [==============================] - 5s 13ms/step - loss: 420.9539\n",
            "Epoch 29/30\n",
            "383/383 [==============================] - 5s 13ms/step - loss: 432.0541\n",
            "Epoch 30/30\n",
            "383/383 [==============================] - 5s 13ms/step - loss: 425.7906\n"
          ]
        },
        {
          "output_type": "execute_result",
          "data": {
            "text/plain": [
              "<keras.callbacks.History at 0x7f27f9e28790>"
            ]
          },
          "metadata": {},
          "execution_count": 118
        }
      ]
    },
    {
      "cell_type": "code",
      "metadata": {
        "colab": {
          "base_uri": "https://localhost:8080/"
        },
        "id": "FaEjXaVy_3nz",
        "outputId": "67468e75-aeeb-4a72-8ed5-cdaa970575c8"
      },
      "source": [
        "preds = model.predict(X_test)\n",
        "preds.shape"
      ],
      "execution_count": null,
      "outputs": [
        {
          "output_type": "execute_result",
          "data": {
            "text/plain": [
              "(655, 1)"
            ]
          },
          "metadata": {},
          "execution_count": 119
        }
      ]
    },
    {
      "cell_type": "code",
      "metadata": {
        "colab": {
          "base_uri": "https://localhost:8080/"
        },
        "id": "jT7C66Cq_7XV",
        "outputId": "c2ea98f6-e4a4-4445-9ce6-7c085a7f6b32"
      },
      "source": [
        "mean_absolute_error(preds, y_test)"
      ],
      "execution_count": null,
      "outputs": [
        {
          "output_type": "execute_result",
          "data": {
            "text/plain": [
              "12.579773317105047"
            ]
          },
          "metadata": {},
          "execution_count": 120
        }
      ]
    },
    {
      "cell_type": "code",
      "metadata": {
        "colab": {
          "base_uri": "https://localhost:8080/"
        },
        "id": "5RrpQ7NmANwP",
        "outputId": "3d9725f7-a708-4c79-eb0b-780380892ac1"
      },
      "source": [
        "def return_rmse(test,predicted):\n",
        "    rmse = math.sqrt(mean_squared_error(test, predicted))\n",
        "    print(\"The root mean squared error is {}.\".format(rmse))\n",
        "return_rmse(y_test, preds)"
      ],
      "execution_count": null,
      "outputs": [
        {
          "output_type": "stream",
          "name": "stdout",
          "text": [
            "The root mean squared error is 19.214785554626904.\n"
          ]
        }
      ]
    },
    {
      "cell_type": "code",
      "metadata": {
        "colab": {
          "base_uri": "https://localhost:8080/",
          "height": 565
        },
        "id": "-0gScCgrAeqg",
        "outputId": "2d513ed7-674f-4352-c279-56b49f6a8804"
      },
      "source": [
        "def plot_predictions(test,predicted):\n",
        "    fig, ax = plt.subplots(1, figsize=(16, 9))\n",
        "    plt.plot(test, color='red',label='Real Price')\n",
        "    plt.plot(predicted, color='blue',label='Predicted Price')\n",
        "    plt.title('Price Prediction')\n",
        "    plt.xlabel('Time')\n",
        "    plt.ylabel('Price')\n",
        "    plt.legend()\n",
        "    plt.show()\n",
        "plot_predictions(y_test,preds)"
      ],
      "execution_count": null,
      "outputs": [
        {
          "output_type": "display_data",
          "data": {
            "image/png": "[encoded data removed]",
            "text/plain": [
              "<Figure size 1152x648 with 1 Axes>"
            ]
          },
          "metadata": {
            "needs_background": "light"
          }
        }
      ]
    },
    {
      "cell_type": "code",
      "metadata": {
        "colab": {
          "base_uri": "https://localhost:8080/"
        },
        "id": "8J4i50aHAipl",
        "outputId": "e35f75af-cffa-47cd-ab63-b41adc83b669"
      },
      "source": [
        "targets = df_test['Close'][step:]\n",
        "preds = model.predict(X_test).squeeze()\n",
        "\n",
        "corr = np.corrcoef(targets, preds)[0][1]\n",
        "print('R={:.2f}'.format(corr))"
      ],
      "execution_count": null,
      "outputs": [
        {
          "output_type": "stream",
          "name": "stdout",
          "text": [
            "R=0.98\n"
          ]
        }
      ]
    },
    {
      "cell_type": "code",
      "metadata": {
        "colab": {
          "base_uri": "https://localhost:8080/",
          "height": 285
        },
        "id": "zx_LB5-uAyEh",
        "outputId": "82bf8b0d-0753-49a7-8109-c7fb8093f4c3"
      },
      "source": [
        "from matplotlib import pyplot\n",
        "\n",
        "pyplot.scatter(y_test, preds)\n",
        "pyplot.title('r = {:.2f}'.format(corr), fontsize=18)\n",
        "pyplot.show()"
      ],
      "execution_count": null,
      "outputs": [
        {
          "output_type": "display_data",
          "data": {
            "image/png": "[encoded data removed]",
            "text/plain": [
              "<Figure size 432x288 with 1 Axes>"
            ]
          },
          "metadata": {
            "needs_background": "light"
          }
        }
      ]
    }
  ]
}